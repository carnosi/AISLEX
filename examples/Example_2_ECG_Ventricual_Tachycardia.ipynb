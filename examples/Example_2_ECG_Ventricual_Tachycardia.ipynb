{
 "cells": [
  {
   "cell_type": "markdown",
   "metadata": {},
   "source": [
    "# Example 2\n",
    "\n",
    "## Anomaly detection in ECG signal with AISLEX and Linear Neural Unit\n",
    "In this example we demonstrate the capabilities of anomly detection with the use of AISLEX and linear neural unit on public [real ECG](https://www.physionet.org/content/cudb/1.0.0/) [1] data.\n",
    "\n",
    "[1] F. M. Nolle and R. W. Bowser, “Creighton University Ventricular Tachyarrhythmia Database.” physionet.org, 1992. doi: 10.13026/C2X59M."
   ]
  },
  {
   "cell_type": "code",
   "execution_count": null,
   "metadata": {},
   "outputs": [],
   "source": [
    "Data > Ventricual Tachycardia"
   ]
  }
 ],
 "metadata": {
  "language_info": {
   "name": "python"
  }
 },
 "nbformat": 4,
 "nbformat_minor": 2
}
