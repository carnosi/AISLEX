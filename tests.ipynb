{
 "cells": [
  {
   "attachments": {},
   "cell_type": "markdown",
   "metadata": {},
   "source": [
    "# Tests of jax implementation \n",
    "bits of code get compared numpy vs jax and its different variations to get the best performance"
   ]
  },
  {
   "cell_type": "code",
   "execution_count": 1,
   "metadata": {},
   "outputs": [],
   "source": [
    "import jax.numpy as jnp\n",
    "import numpy as np\n",
    "from jax import random\n",
    "\n",
    "from aisle import aisle as original_le\n",
    "from aisle_jax import aisle as jax_le"
   ]
  },
  {
   "cell_type": "code",
   "execution_count": 2,
   "metadata": {},
   "outputs": [
    {
     "name": "stdout",
     "output_type": "stream",
     "text": [
      "(10000, 5)\n"
     ]
    }
   ],
   "source": [
    "# Load some test weights\n",
    "weights = np.loadtxt(\".honu_weights.csv\")\n",
    "# Slice desired size\n",
    "weights = weights[:10000, :]\n",
    "print(weights.shape)"
   ]
  },
  {
   "cell_type": "code",
   "execution_count": 3,
   "metadata": {},
   "outputs": [],
   "source": [
    "# Aisle setup\n",
    "oles = (1, 2, 3)\n",
    "alphas = (1, 5, 8, 16, 12, 25, 48)"
   ]
  },
  {
   "cell_type": "code",
   "execution_count": 4,
   "metadata": {},
   "outputs": [
    {
     "name": "stdout",
     "output_type": "stream",
     "text": [
      "Python way:  [0.05714286 0.14285714 0.14285714]\n"
     ]
    }
   ],
   "source": [
    "# test regular AISLE\n",
    "\n",
    "ea = original_le(weights, alphas, oles)\n",
    "print(\"Python way: \", ea)"
   ]
  },
  {
   "cell_type": "code",
   "execution_count": 5,
   "metadata": {},
   "outputs": [
    {
     "name": "stderr",
     "output_type": "stream",
     "text": [
      "WARNING:absl:No GPU/TPU found, falling back to CPU. (Set TF_CPP_MIN_LOG_LEVEL=0 and rerun for more info.)\n"
     ]
    },
    {
     "name": "stdout",
     "output_type": "stream",
     "text": [
      "JAX way:  [0.05714286 0.05714286 0.05714286]\n"
     ]
    }
   ],
   "source": [
    "# test JAX AISLE\n",
    "jea = jax_le(weights, alphas, oles)\n",
    "print(\"JAX way: \", jea)"
   ]
  },
  {
   "cell_type": "code",
   "execution_count": 12,
   "metadata": {},
   "outputs": [
    {
     "data": {
      "text/plain": [
       "9999"
      ]
     },
     "execution_count": 12,
     "metadata": {},
     "output_type": "execute_result"
    }
   ],
   "source": [
    "weights.shape[0]"
   ]
  },
  {
   "cell_type": "code",
   "execution_count": null,
   "metadata": {},
   "outputs": [],
   "source": []
  }
 ],
 "metadata": {
  "kernelspec": {
   "display_name": "jax",
   "language": "python",
   "name": "python3"
  },
  "language_info": {
   "codemirror_mode": {
    "name": "ipython",
    "version": 3
   },
   "file_extension": ".py",
   "mimetype": "text/x-python",
   "name": "python",
   "nbconvert_exporter": "python",
   "pygments_lexer": "ipython3",
   "version": "3.10.8"
  },
  "orig_nbformat": 4,
  "vscode": {
   "interpreter": {
    "hash": "171b453b675fed881cef689e83e157d52179d33b16035d13b3ed1a914d8cda62"
   }
  }
 },
 "nbformat": 4,
 "nbformat_minor": 2
}
