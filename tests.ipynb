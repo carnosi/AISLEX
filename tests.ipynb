{
 "cells": [
  {
   "attachments": {},
   "cell_type": "markdown",
   "metadata": {},
   "source": [
    "# Tests of jax implementation \n",
    "bits of code get compared numpy vs jax and its different variations to get the best performance"
   ]
  },
  {
   "cell_type": "code",
   "execution_count": 1,
   "metadata": {},
   "outputs": [],
   "source": [
    "import jax.numpy as jnp\n",
    "import numpy as np\n",
    "from jax import random\n",
    "\n",
    "from aisle import aisle as original_le\n",
    "from aisle_jax import aisle as jax_le"
   ]
  },
  {
   "cell_type": "code",
   "execution_count": 2,
   "metadata": {},
   "outputs": [
    {
     "name": "stdout",
     "output_type": "stream",
     "text": [
      "(10000, 5)\n"
     ]
    }
   ],
   "source": [
    "# Load some test weights\n",
    "weights = np.loadtxt(\".honu_weights.csv\")\n",
    "# Slice desired size\n",
    "weights = weights[:10000, :]\n",
    "print(weights.shape)"
   ]
  },
  {
   "cell_type": "code",
   "execution_count": 3,
   "metadata": {},
   "outputs": [],
   "source": [
    "# Aisle setup\n",
    "oles = (1, 2, 3)\n",
    "alphas = (1, 5, 8, 16, 12, 25, 48)"
   ]
  },
  {
   "cell_type": "code",
   "execution_count": 4,
   "metadata": {},
   "outputs": [
    {
     "name": "stdout",
     "output_type": "stream",
     "text": [
      "Python way:  [0.14285714 0.14285714 0.        ]\n"
     ]
    }
   ],
   "source": [
    "# test regular AISLE\n",
    "\n",
    "ea = original_le(weights, alphas, oles)\n",
    "print(\"Python way: \", ea)"
   ]
  },
  {
   "cell_type": "code",
   "execution_count": 5,
   "metadata": {},
   "outputs": [
    {
     "name": "stderr",
     "output_type": "stream",
     "text": [
      "WARNING:absl:No GPU/TPU found, falling back to CPU. (Set TF_CPP_MIN_LOG_LEVEL=0 and rerun for more info.)\n"
     ]
    },
    {
     "name": "stdout",
     "output_type": "stream",
     "text": [
      "JAX way:  [0.14285715 0.14285715 0.        ]\n"
     ]
    }
   ],
   "source": [
    "# test JAX AISLE\n",
    "jea = jax_le(weights, alphas, oles)\n",
    "print(\"JAX way: \", jea)"
   ]
  },
  {
   "cell_type": "code",
   "execution_count": 8,
   "metadata": {},
   "outputs": [
    {
     "data": {
      "text/plain": [
       "array([[ 1.09983976e-02,  2.17858945e-03,  2.15526739e-03,\n",
       "         2.16346641e-03,  2.16140418e-03],\n",
       "       [ 1.00990943e-02,  1.97903817e-03,  1.98656677e-03,\n",
       "         1.98467317e-03,  1.98653724e-03],\n",
       "       [ 8.78388885e-03,  1.72785610e-03,  1.72620910e-03,\n",
       "         1.72783041e-03,  1.73609525e-03],\n",
       "       ...,\n",
       "       [ 2.50731520e-04,  5.12003228e-05,  5.16484407e-05,\n",
       "         5.21006368e-05,  5.16305081e-05],\n",
       "       [ 6.80961395e-05,  1.40271930e-05,  1.41500049e-05,\n",
       "         1.40223227e-05,  1.38182324e-05],\n",
       "       [-2.84901384e-04, -5.92009475e-05, -5.86667494e-05,\n",
       "        -5.78128743e-05, -5.82047145e-05]])"
      ]
     },
     "execution_count": 8,
     "metadata": {},
     "output_type": "execute_result"
    }
   ],
   "source": [
    "# AISLE original OLE 1\n",
    "ea"
   ]
  },
  {
   "cell_type": "code",
   "execution_count": 5,
   "metadata": {},
   "outputs": [
    {
     "data": {
      "text/plain": [
       "array([[-8.99303315e-04, -1.99551280e-04, -1.68700620e-04,\n",
       "        -1.78793238e-04, -1.74866942e-04],\n",
       "       [-1.31520547e-03, -2.51182067e-04, -2.60357674e-04,\n",
       "        -2.56842757e-04, -2.50441985e-04],\n",
       "       [-9.75488381e-04, -1.93349895e-04, -1.90261636e-04,\n",
       "        -1.84535953e-04, -2.00143302e-04],\n",
       "       ...,\n",
       "       [-1.51205591e-04, -3.05871944e-05, -3.04286346e-05,\n",
       "        -3.06947973e-05, -3.18898225e-05],\n",
       "       [-1.82635381e-04, -3.71731298e-05, -3.74984358e-05,\n",
       "        -3.80783141e-05, -3.78122757e-05],\n",
       "       [-3.52997524e-04, -7.32281405e-05, -7.28167542e-05,\n",
       "        -7.18351969e-05, -7.20229470e-05]])"
      ]
     },
     "execution_count": 5,
     "metadata": {},
     "output_type": "execute_result"
    }
   ],
   "source": [
    "# AISLE original - OLE 2\n",
    "ea"
   ]
  },
  {
   "cell_type": "code",
   "execution_count": 5,
   "metadata": {},
   "outputs": [
    {
     "data": {
      "text/plain": [
       "array([[-4.15902157e-04, -5.16307862e-05, -9.16570535e-05,\n",
       "        -7.80495182e-05, -7.55750436e-05],\n",
       "       [ 3.39717091e-04,  5.78321713e-05,  7.00960378e-05,\n",
       "         7.23068039e-05,  5.02986831e-05],\n",
       "       [ 1.55821385e-04,  3.35589724e-05,  3.56052179e-05,\n",
       "         1.59607922e-05,  3.44342930e-05],\n",
       "       ...,\n",
       "       [-3.57982791e-04, -7.23957211e-05, -7.27939139e-05,\n",
       "        -7.36378410e-05, -7.52089646e-05],\n",
       "       [-3.14297893e-05, -6.58593544e-06, -7.06980121e-06,\n",
       "        -7.38351678e-06, -5.92245323e-06],\n",
       "       [-1.70362143e-04, -3.60550107e-05, -3.53183184e-05,\n",
       "        -3.37568828e-05, -3.42106713e-05]])"
      ]
     },
     "execution_count": 5,
     "metadata": {},
     "output_type": "execute_result"
    }
   ],
   "source": [
    "# AISLE original - OLE 3\n",
    "ea"
   ]
  },
  {
   "cell_type": "code",
   "execution_count": 5,
   "metadata": {},
   "outputs": [
    {
     "data": {
      "text/plain": [
       "(array([2.84901384e-04, 5.92009475e-05, 5.86667494e-05, 5.78128743e-05,\n",
       "        5.82047145e-05]),\n",
       " array([2.00990839e-04, 4.04214770e-05, 4.04186518e-05, 4.04217828e-05,\n",
       "        4.04237138e-05]))"
      ]
     },
     "execution_count": 5,
     "metadata": {},
     "output_type": "execute_result"
    }
   ],
   "source": [
    "# AISLE original - absdw / meanabsdw OLE 1\n",
    "ea"
   ]
  },
  {
   "cell_type": "code",
   "execution_count": 8,
   "metadata": {},
   "outputs": [
    {
     "data": {
      "text/plain": [
       "(array([3.52997524e-04, 7.32281405e-05, 7.28167542e-05, 7.18351969e-05,\n",
       "        7.20229470e-05]),\n",
       " array([2.13059276e-04, 4.28874916e-05, 4.28828524e-05, 4.28904079e-05,\n",
       "        4.28900968e-05]))"
      ]
     },
     "execution_count": 8,
     "metadata": {},
     "output_type": "execute_result"
    }
   ],
   "source": [
    "# AISLE original - absdw / meanabsdw OLE 2\n",
    "ea"
   ]
  },
  {
   "cell_type": "code",
   "execution_count": null,
   "metadata": {},
   "outputs": [],
   "source": []
  }
 ],
 "metadata": {
  "kernelspec": {
   "display_name": "jax",
   "language": "python",
   "name": "python3"
  },
  "language_info": {
   "codemirror_mode": {
    "name": "ipython",
    "version": 3
   },
   "file_extension": ".py",
   "mimetype": "text/x-python",
   "name": "python",
   "nbconvert_exporter": "python",
   "pygments_lexer": "ipython3",
   "version": "3.10.8"
  },
  "orig_nbformat": 4,
  "vscode": {
   "interpreter": {
    "hash": "171b453b675fed881cef689e83e157d52179d33b16035d13b3ed1a914d8cda62"
   }
  }
 },
 "nbformat": 4,
 "nbformat_minor": 2
}
